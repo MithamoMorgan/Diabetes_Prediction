{
 "cells": [
  {
   "cell_type": "code",
   "execution_count": 1,
   "id": "6419f25f-12c4-49b7-8a94-4e86e22c4b5a",
   "metadata": {},
   "outputs": [],
   "source": [
    "# Import necessary libraries\n",
    "import pandas as pd\n",
    "import numpy as np\n",
    "import matplotlib.pyplot as plt\n",
    "import seaborn as sns"
   ]
  },
  {
   "cell_type": "code",
   "execution_count": 2,
   "id": "56b19dd9-fef2-44d9-a5a7-dc8a6f143381",
   "metadata": {},
   "outputs": [
    {
     "data": {
      "text/html": [
       "<div>\n",
       "<style scoped>\n",
       "    .dataframe tbody tr th:only-of-type {\n",
       "        vertical-align: middle;\n",
       "    }\n",
       "\n",
       "    .dataframe tbody tr th {\n",
       "        vertical-align: top;\n",
       "    }\n",
       "\n",
       "    .dataframe thead th {\n",
       "        text-align: right;\n",
       "    }\n",
       "</style>\n",
       "<table border=\"1\" class=\"dataframe\">\n",
       "  <thead>\n",
       "    <tr style=\"text-align: right;\">\n",
       "      <th></th>\n",
       "      <th>gender</th>\n",
       "      <th>age</th>\n",
       "      <th>hypertension</th>\n",
       "      <th>heart_disease</th>\n",
       "      <th>smoking_history</th>\n",
       "      <th>bmi</th>\n",
       "      <th>HbA1c_level</th>\n",
       "      <th>blood_glucose_level</th>\n",
       "      <th>diabetes</th>\n",
       "    </tr>\n",
       "  </thead>\n",
       "  <tbody>\n",
       "    <tr>\n",
       "      <th>0</th>\n",
       "      <td>Female</td>\n",
       "      <td>80.0</td>\n",
       "      <td>0</td>\n",
       "      <td>1</td>\n",
       "      <td>never</td>\n",
       "      <td>25.19</td>\n",
       "      <td>6.6</td>\n",
       "      <td>140</td>\n",
       "      <td>0</td>\n",
       "    </tr>\n",
       "    <tr>\n",
       "      <th>1</th>\n",
       "      <td>Female</td>\n",
       "      <td>54.0</td>\n",
       "      <td>0</td>\n",
       "      <td>0</td>\n",
       "      <td>No Info</td>\n",
       "      <td>27.32</td>\n",
       "      <td>6.6</td>\n",
       "      <td>80</td>\n",
       "      <td>0</td>\n",
       "    </tr>\n",
       "    <tr>\n",
       "      <th>2</th>\n",
       "      <td>Male</td>\n",
       "      <td>28.0</td>\n",
       "      <td>0</td>\n",
       "      <td>0</td>\n",
       "      <td>never</td>\n",
       "      <td>27.32</td>\n",
       "      <td>5.7</td>\n",
       "      <td>158</td>\n",
       "      <td>0</td>\n",
       "    </tr>\n",
       "    <tr>\n",
       "      <th>3</th>\n",
       "      <td>Female</td>\n",
       "      <td>36.0</td>\n",
       "      <td>0</td>\n",
       "      <td>0</td>\n",
       "      <td>current</td>\n",
       "      <td>23.45</td>\n",
       "      <td>5.0</td>\n",
       "      <td>155</td>\n",
       "      <td>0</td>\n",
       "    </tr>\n",
       "    <tr>\n",
       "      <th>4</th>\n",
       "      <td>Male</td>\n",
       "      <td>76.0</td>\n",
       "      <td>1</td>\n",
       "      <td>1</td>\n",
       "      <td>current</td>\n",
       "      <td>20.14</td>\n",
       "      <td>4.8</td>\n",
       "      <td>155</td>\n",
       "      <td>0</td>\n",
       "    </tr>\n",
       "  </tbody>\n",
       "</table>\n",
       "</div>"
      ],
      "text/plain": [
       "   gender   age  hypertension  heart_disease smoking_history    bmi  \\\n",
       "0  Female  80.0             0              1           never  25.19   \n",
       "1  Female  54.0             0              0         No Info  27.32   \n",
       "2    Male  28.0             0              0           never  27.32   \n",
       "3  Female  36.0             0              0         current  23.45   \n",
       "4    Male  76.0             1              1         current  20.14   \n",
       "\n",
       "   HbA1c_level  blood_glucose_level  diabetes  \n",
       "0          6.6                  140         0  \n",
       "1          6.6                   80         0  \n",
       "2          5.7                  158         0  \n",
       "3          5.0                  155         0  \n",
       "4          4.8                  155         0  "
      ]
     },
     "execution_count": 2,
     "metadata": {},
     "output_type": "execute_result"
    }
   ],
   "source": [
    "# read the dataset\n",
    "df = pd.read_csv('diabetes_prediction_dataset.csv')\n",
    "\n",
    "# Display the first 5 rows\n",
    "df.head()"
   ]
  },
  {
   "cell_type": "code",
   "execution_count": 3,
   "id": "25c53ccc-44e7-4c75-b6aa-1e45359b5a2b",
   "metadata": {},
   "outputs": [
    {
     "data": {
      "text/plain": [
       "(100000, 9)"
      ]
     },
     "execution_count": 3,
     "metadata": {},
     "output_type": "execute_result"
    }
   ],
   "source": [
    "# Basic data inspection\n",
    "df.shape"
   ]
  },
  {
   "cell_type": "markdown",
   "id": "c6230f62-18a2-4098-9f89-573ec7faf3e8",
   "metadata": {},
   "source": [
    "The dataset has 100,0000 rows and 9 columns"
   ]
  },
  {
   "cell_type": "code",
   "execution_count": 4,
   "id": "d3f8862b-01c6-4b1a-9c6a-662a67218d7f",
   "metadata": {},
   "outputs": [
    {
     "name": "stdout",
     "output_type": "stream",
     "text": [
      "<class 'pandas.core.frame.DataFrame'>\n",
      "RangeIndex: 100000 entries, 0 to 99999\n",
      "Data columns (total 9 columns):\n",
      " #   Column               Non-Null Count   Dtype  \n",
      "---  ------               --------------   -----  \n",
      " 0   gender               100000 non-null  object \n",
      " 1   age                  100000 non-null  float64\n",
      " 2   hypertension         100000 non-null  int64  \n",
      " 3   heart_disease        100000 non-null  int64  \n",
      " 4   smoking_history      100000 non-null  object \n",
      " 5   bmi                  100000 non-null  float64\n",
      " 6   HbA1c_level          100000 non-null  float64\n",
      " 7   blood_glucose_level  100000 non-null  int64  \n",
      " 8   diabetes             100000 non-null  int64  \n",
      "dtypes: float64(3), int64(4), object(2)\n",
      "memory usage: 6.9+ MB\n"
     ]
    }
   ],
   "source": [
    "# Datatypes\n",
    "df.info()"
   ]
  },
  {
   "cell_type": "code",
   "execution_count": 5,
   "id": "3250de8b-ba66-46e5-aaaa-af2d65296574",
   "metadata": {},
   "outputs": [
    {
     "data": {
      "text/plain": [
       "gender                 0\n",
       "age                    0\n",
       "hypertension           0\n",
       "heart_disease          0\n",
       "smoking_history        0\n",
       "bmi                    0\n",
       "HbA1c_level            0\n",
       "blood_glucose_level    0\n",
       "diabetes               0\n",
       "dtype: int64"
      ]
     },
     "execution_count": 5,
     "metadata": {},
     "output_type": "execute_result"
    }
   ],
   "source": [
    "# Check null values\n",
    "df.isnull().sum()"
   ]
  },
  {
   "cell_type": "markdown",
   "id": "d73d9d10-4a3e-442b-9eda-6e629de1e86a",
   "metadata": {},
   "source": [
    "The dataset does not contain any null values."
   ]
  },
  {
   "cell_type": "code",
   "execution_count": 6,
   "id": "40e59860-ad1c-4c55-aa89-4d3bfbbca4d0",
   "metadata": {},
   "outputs": [
    {
     "data": {
      "text/plain": [
       "3854"
      ]
     },
     "execution_count": 6,
     "metadata": {},
     "output_type": "execute_result"
    }
   ],
   "source": [
    "# Check for duplicates\n",
    "df.duplicated().sum()"
   ]
  },
  {
   "cell_type": "markdown",
   "id": "13d089ff-779c-4f5c-a9aa-62294905ae5f",
   "metadata": {},
   "source": [
    "The dataset contains 3,854 duplicates"
   ]
  },
  {
   "cell_type": "code",
   "execution_count": 7,
   "id": "ffc02623-cf8b-427d-8b3d-a90122385ee2",
   "metadata": {},
   "outputs": [],
   "source": [
    "# Drop the duplicates\n",
    "df = df.drop_duplicates()"
   ]
  },
  {
   "cell_type": "code",
   "execution_count": 8,
   "id": "98482454-e655-4cfc-be08-23a0d2c1a868",
   "metadata": {},
   "outputs": [
    {
     "data": {
      "text/plain": [
       "(96146, 9)"
      ]
     },
     "execution_count": 8,
     "metadata": {},
     "output_type": "execute_result"
    }
   ],
   "source": [
    "# Check the size\n",
    "df.shape"
   ]
  },
  {
   "cell_type": "markdown",
   "id": "7b31c1aa-de2e-4645-a4ad-6bfa1c68ea88",
   "metadata": {},
   "source": [
    "The dataset now has 96,146 rows after dropping duplicates"
   ]
  },
  {
   "cell_type": "code",
   "execution_count": 9,
   "id": "c653d0b9-b408-48a8-8bff-e9a45814a97f",
   "metadata": {},
   "outputs": [],
   "source": [
    "# Save the cleaned data\n",
    "df.to_csv('clean_diabetes_data')"
   ]
  },
  {
   "cell_type": "markdown",
   "id": "7b0f92d7-4f7e-475a-a3ff-aa503528f696",
   "metadata": {},
   "source": [
    "### EDA:"
   ]
  },
  {
   "cell_type": "code",
   "execution_count": 9,
   "id": "2f997547-b702-4d0f-bb7c-78a7ba2f97f1",
   "metadata": {},
   "outputs": [
    {
     "data": {
      "text/html": [
       "<div>\n",
       "<style scoped>\n",
       "    .dataframe tbody tr th:only-of-type {\n",
       "        vertical-align: middle;\n",
       "    }\n",
       "\n",
       "    .dataframe tbody tr th {\n",
       "        vertical-align: top;\n",
       "    }\n",
       "\n",
       "    .dataframe thead th {\n",
       "        text-align: right;\n",
       "    }\n",
       "</style>\n",
       "<table border=\"1\" class=\"dataframe\">\n",
       "  <thead>\n",
       "    <tr style=\"text-align: right;\">\n",
       "      <th></th>\n",
       "      <th>count</th>\n",
       "      <th>mean</th>\n",
       "      <th>std</th>\n",
       "      <th>min</th>\n",
       "      <th>25%</th>\n",
       "      <th>50%</th>\n",
       "      <th>75%</th>\n",
       "      <th>max</th>\n",
       "    </tr>\n",
       "  </thead>\n",
       "  <tbody>\n",
       "    <tr>\n",
       "      <th>age</th>\n",
       "      <td>96146.0</td>\n",
       "      <td>41.794326</td>\n",
       "      <td>22.462948</td>\n",
       "      <td>0.08</td>\n",
       "      <td>24.0</td>\n",
       "      <td>43.00</td>\n",
       "      <td>59.00</td>\n",
       "      <td>80.00</td>\n",
       "    </tr>\n",
       "    <tr>\n",
       "      <th>bmi</th>\n",
       "      <td>96146.0</td>\n",
       "      <td>27.321461</td>\n",
       "      <td>6.767716</td>\n",
       "      <td>10.01</td>\n",
       "      <td>23.4</td>\n",
       "      <td>27.32</td>\n",
       "      <td>29.86</td>\n",
       "      <td>95.69</td>\n",
       "    </tr>\n",
       "    <tr>\n",
       "      <th>HbA1c_level</th>\n",
       "      <td>96146.0</td>\n",
       "      <td>5.532609</td>\n",
       "      <td>1.073232</td>\n",
       "      <td>3.50</td>\n",
       "      <td>4.8</td>\n",
       "      <td>5.80</td>\n",
       "      <td>6.20</td>\n",
       "      <td>9.00</td>\n",
       "    </tr>\n",
       "    <tr>\n",
       "      <th>blood_glucose_level</th>\n",
       "      <td>96146.0</td>\n",
       "      <td>138.218231</td>\n",
       "      <td>40.909771</td>\n",
       "      <td>80.00</td>\n",
       "      <td>100.0</td>\n",
       "      <td>140.00</td>\n",
       "      <td>159.00</td>\n",
       "      <td>300.00</td>\n",
       "    </tr>\n",
       "  </tbody>\n",
       "</table>\n",
       "</div>"
      ],
      "text/plain": [
       "                       count        mean        std    min    25%     50%  \\\n",
       "age                  96146.0   41.794326  22.462948   0.08   24.0   43.00   \n",
       "bmi                  96146.0   27.321461   6.767716  10.01   23.4   27.32   \n",
       "HbA1c_level          96146.0    5.532609   1.073232   3.50    4.8    5.80   \n",
       "blood_glucose_level  96146.0  138.218231  40.909771  80.00  100.0  140.00   \n",
       "\n",
       "                        75%     max  \n",
       "age                   59.00   80.00  \n",
       "bmi                   29.86   95.69  \n",
       "HbA1c_level            6.20    9.00  \n",
       "blood_glucose_level  159.00  300.00  "
      ]
     },
     "execution_count": 9,
     "metadata": {},
     "output_type": "execute_result"
    }
   ],
   "source": [
    "# Summary statistics\n",
    "summary_df = df.drop(['hypertension', 'heart_disease', 'diabetes'], axis = 1)\n",
    "summary_df.describe().T"
   ]
  },
  {
   "cell_type": "code",
   "execution_count": 10,
   "id": "36e72eed-5231-4d01-b3e9-d777c8498ddb",
   "metadata": {},
   "outputs": [
    {
     "data": {
      "text/plain": [
       "gender             3\n",
       "smoking_history    6\n",
       "dtype: int64"
      ]
     },
     "execution_count": 10,
     "metadata": {},
     "output_type": "execute_result"
    }
   ],
   "source": [
    "# Count of unique values per categorical column\n",
    "categorical_columns = df.select_dtypes(include = 'O')\n",
    "categorical_columns.nunique()"
   ]
  },
  {
   "cell_type": "code",
   "execution_count": 11,
   "id": "2a31bb62-c545-41b7-9899-d2995f55b6e6",
   "metadata": {},
   "outputs": [
    {
     "data": {
      "text/plain": [
       "array(['Female', 'Male', 'Other'], dtype=object)"
      ]
     },
     "execution_count": 11,
     "metadata": {},
     "output_type": "execute_result"
    }
   ],
   "source": [
    "# Unique values for gender\n",
    "df['gender'].unique()"
   ]
  },
  {
   "cell_type": "code",
   "execution_count": 12,
   "id": "36f5d4dd-f059-41c1-a091-17f69ac42fe0",
   "metadata": {},
   "outputs": [
    {
     "data": {
      "text/plain": [
       "array(['never', 'No Info', 'current', 'former', 'ever', 'not current'],\n",
       "      dtype=object)"
      ]
     },
     "execution_count": 12,
     "metadata": {},
     "output_type": "execute_result"
    }
   ],
   "source": [
    "# Unique values for smoking_history\n",
    "df['smoking_history'].unique()"
   ]
  },
  {
   "cell_type": "markdown",
   "id": "d06058da-4dbb-4637-b251-7efd5eff516b",
   "metadata": {},
   "source": [
    "### Viaualizations:"
   ]
  },
  {
   "cell_type": "markdown",
   "id": "ee2a8c94-f9fa-4482-8aca-742b2b7b63ad",
   "metadata": {},
   "source": [
    "##### By Gender"
   ]
  },
  {
   "cell_type": "code",
   "execution_count": 13,
   "id": "ca8f8664-7166-4eb8-a298-15a27bdb1a4c",
   "metadata": {},
   "outputs": [
    {
     "data": {
      "text/plain": [
       "gender\n",
       "Male      4035\n",
       "Female    4447\n",
       "Name: diabetes, dtype: int64"
      ]
     },
     "execution_count": 13,
     "metadata": {},
     "output_type": "execute_result"
    }
   ],
   "source": [
    "# Create a diabetic df\n",
    "diabetic_df = df[df['diabetes'] == 1]\n",
    "\n",
    "# Group by gender\n",
    "gender_groups = diabetic_df.groupby('gender').count()['diabetes'].sort_values(ascending = True)\n",
    "gender_groups"
   ]
  },
  {
   "cell_type": "code",
   "execution_count": 17,
   "id": "da210bd4-8560-448b-9440-234cce9dcd1e",
   "metadata": {},
   "outputs": [
    {
     "data": {
      "image/png": "[encoded data removed]",
      "text/plain": [
       "<Figure size 640x480 with 1 Axes>"
      ]
     },
     "metadata": {},
     "output_type": "display_data"
    }
   ],
   "source": [
    "# Create bar charts\n",
    "x = gender_groups.index\n",
    "y = gender_groups.values\n",
    "\n",
    "# Plot\n",
    "sns.barplot(data = gender_groups, color = 'green',alpha = 0.6, edgecolor = 'black')\n",
    "\n",
    "# show\n",
    "plt.show()"
   ]
  },
  {
   "cell_type": "markdown",
   "id": "c93b8b02-3f94-4458-8156-9d692fb32a66",
   "metadata": {},
   "source": [
    "The number of female diabetic patients is slightly higher than that of male diabetic patients."
   ]
  },
  {
   "cell_type": "markdown",
   "id": "a057f898-ec08-4a45-904c-32d4fdd4076d",
   "metadata": {},
   "source": [
    "##### By Age"
   ]
  },
  {
   "cell_type": "code",
   "execution_count": 62,
   "id": "a1a78c72-160b-4b39-b104-eb8a961a29f6",
   "metadata": {},
   "outputs": [
    {
     "data": {
      "image/png": "[encoded data removed]",
      "text/plain": [
       "<Figure size 600x400 with 1 Axes>"
      ]
     },
     "metadata": {},
     "output_type": "display_data"
    }
   ],
   "source": [
    "# Create a new plotting size\n",
    "\n",
    "plt.figure(figsize = (6,4))\n",
    "# Group by age\n",
    "age_groups = diabetic_df.groupby('age').count()['diabetes']\n",
    "\n",
    "# Plot a line chart to see trend\n",
    "sns.lineplot(data = age_groups, color = 'green')\n",
    "\n",
    "# Show\n",
    "plt.show()"
   ]
  },
  {
   "cell_type": "markdown",
   "id": "91258a2a-5fa6-4cf4-97a2-354f2ce3c80a",
   "metadata": {},
   "source": [
    "According to the graph, there is a positive correlation between age and the incidence of diabetes, with cases increasing as age rises."
   ]
  },
  {
   "cell_type": "markdown",
   "id": "bd434c7c-0269-4245-a90a-3beb97ff2076",
   "metadata": {},
   "source": [
    "##### By Smoking history"
   ]
  },
  {
   "cell_type": "code",
   "execution_count": 54,
   "id": "d91ed1a0-967c-497e-b8b7-89c38c4097ff",
   "metadata": {},
   "outputs": [
    {
     "data": {
      "text/plain": [
       "<Axes: xlabel='smoking_history', ylabel='diabetes'>"
      ]
     },
     "execution_count": 54,
     "metadata": {},
     "output_type": "execute_result"
    },
    {
     "data": {
      "image/png": "[encoded data removed]",
      "text/plain": [
       "<Figure size 640x480 with 1 Axes>"
      ]
     },
     "metadata": {},
     "output_type": "display_data"
    }
   ],
   "source": [
    "# Group by smoking_history\n",
    "smoking_groups = diabetic_df.groupby('smoking_history').count()['diabetes'].sort_values(ascending = True)\n",
    "\n",
    "# Create bar plots\n",
    "sns.barplot(data = smoking_groups, color = 'green', alpha = 0.6, edgecolor = 'black')"
   ]
  },
  {
   "cell_type": "markdown",
   "id": "d9ef5d4b-cfa1-41cc-9804-ef80f6989a61",
   "metadata": {},
   "source": [
    "From the above observation it is evident that smoking is not a major cause of diabetes"
   ]
  },
  {
   "cell_type": "markdown",
   "id": "83ab7bf2-8522-467f-a7b9-c83f77e50a35",
   "metadata": {},
   "source": [
    "##### Correlation"
   ]
  },
  {
   "cell_type": "code",
   "execution_count": 24,
   "id": "f33785e7-86c3-4334-ba47-67384d0522bf",
   "metadata": {},
   "outputs": [
    {
     "data": {
      "text/html": [
       "<div>\n",
       "<style scoped>\n",
       "    .dataframe tbody tr th:only-of-type {\n",
       "        vertical-align: middle;\n",
       "    }\n",
       "\n",
       "    .dataframe tbody tr th {\n",
       "        vertical-align: top;\n",
       "    }\n",
       "\n",
       "    .dataframe thead th {\n",
       "        text-align: right;\n",
       "    }\n",
       "</style>\n",
       "<table border=\"1\" class=\"dataframe\">\n",
       "  <thead>\n",
       "    <tr style=\"text-align: right;\">\n",
       "      <th></th>\n",
       "      <th>age</th>\n",
       "      <th>bmi</th>\n",
       "      <th>HbA1c_level</th>\n",
       "      <th>blood_glucose_level</th>\n",
       "    </tr>\n",
       "  </thead>\n",
       "  <tbody>\n",
       "    <tr>\n",
       "      <th>age</th>\n",
       "      <td>1.000000</td>\n",
       "      <td>0.344797</td>\n",
       "      <td>0.106719</td>\n",
       "      <td>0.114317</td>\n",
       "    </tr>\n",
       "    <tr>\n",
       "      <th>bmi</th>\n",
       "      <td>0.344797</td>\n",
       "      <td>1.000000</td>\n",
       "      <td>0.084423</td>\n",
       "      <td>0.092543</td>\n",
       "    </tr>\n",
       "    <tr>\n",
       "      <th>HbA1c_level</th>\n",
       "      <td>0.106719</td>\n",
       "      <td>0.084423</td>\n",
       "      <td>1.000000</td>\n",
       "      <td>0.171615</td>\n",
       "    </tr>\n",
       "    <tr>\n",
       "      <th>blood_glucose_level</th>\n",
       "      <td>0.114317</td>\n",
       "      <td>0.092543</td>\n",
       "      <td>0.171615</td>\n",
       "      <td>1.000000</td>\n",
       "    </tr>\n",
       "  </tbody>\n",
       "</table>\n",
       "</div>"
      ],
      "text/plain": [
       "                          age       bmi  HbA1c_level  blood_glucose_level\n",
       "age                  1.000000  0.344797     0.106719             0.114317\n",
       "bmi                  0.344797  1.000000     0.084423             0.092543\n",
       "HbA1c_level          0.106719  0.084423     1.000000             0.171615\n",
       "blood_glucose_level  0.114317  0.092543     0.171615             1.000000"
      ]
     },
     "execution_count": 24,
     "metadata": {},
     "output_type": "execute_result"
    }
   ],
   "source": [
    "# Create a numeric dataframe\n",
    "numeric_df = df.select_dtypes(include = np.number)\n",
    "\n",
    "# Drop hypertension, heart_disease, diabetes\n",
    "numeric_df.drop(['hypertension', 'heart_disease', 'diabetes'], axis = 1, inplace = True)\n",
    "\n",
    "# Create a correlation matrix\n",
    "corr_matrix = numeric_df.corr()\n",
    "\n",
    "# Display the matrix\n",
    "corr_matrix"
   ]
  },
  {
   "cell_type": "code",
   "execution_count": 27,
   "id": "bed56a7e-612e-4a07-8395-57cab8f1d76b",
   "metadata": {},
   "outputs": [
    {
     "data": {
      "image/png": "[encoded data removed]",
      "text/plain": [
       "<Figure size 640x480 with 2 Axes>"
      ]
     },
     "metadata": {},
     "output_type": "display_data"
    }
   ],
   "source": [
    "# Create a heatmap\n",
    "sns.heatmap(corr_matrix, cmap ='coolwarm', annot = True, fmt = '.2f')\n",
    "\n",
    "# Show\n",
    "plt.show()"
   ]
  },
  {
   "cell_type": "markdown",
   "id": "e9bbb3ef-df99-48aa-9035-b22bb8244eb1",
   "metadata": {},
   "source": [
    "* The most substantial correlation is between age and bmi"
   ]
  }
 ],
 "metadata": {
  "kernelspec": {
   "display_name": "Python 3 (ipykernel)",
   "language": "python",
   "name": "python3"
  },
  "language_info": {
   "codemirror_mode": {
    "name": "ipython",
    "version": 3
   },
   "file_extension": ".py",
   "mimetype": "text/x-python",
   "name": "python",
   "nbconvert_exporter": "python",
   "pygments_lexer": "ipython3",
   "version": "3.11.5"
  }
 },
 "nbformat": 4,
 "nbformat_minor": 5
}
